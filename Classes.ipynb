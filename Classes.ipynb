{
 "cells": [
  {
   "cell_type": "code",
   "execution_count": 1,
   "metadata": {},
   "outputs": [
    {
     "name": "stdout",
     "output_type": "stream",
     "text": [
      "FerBOn\n",
      "[10, 10, 10, 10, 9]\n"
     ]
    },
    {
     "data": {
      "text/plain": [
       "9.8"
      ]
     },
     "execution_count": 1,
     "metadata": {},
     "output_type": "execute_result"
    }
   ],
   "source": [
    "students = {\n",
    "    \"name\" : \"no hay registro\",\n",
    "    \"grade\" : \"no hay registro\"\n",
    "}\n",
    "class Student: \n",
    "    def __init__(self,new_name,new_grade): \n",
    "        self.name = new_name \n",
    "        self.grade = new_grade\n",
    "    def average(self): \n",
    "        return sum(self.grade)/len(self.grade)\n",
    "\n",
    "student_one = Student(\"FerBOn\", [10,10,10,10,9])\n",
    "print(student_one.name)\n",
    "print(student_one.grade)\n",
    "student_one.average()"
   ]
  }
 ],
 "metadata": {
  "kernelspec": {
   "display_name": "Python 3",
   "language": "python",
   "name": "python3"
  },
  "language_info": {
   "codemirror_mode": {
    "name": "ipython",
    "version": 3
   },
   "file_extension": ".py",
   "mimetype": "text/x-python",
   "name": "python",
   "nbconvert_exporter": "python",
   "pygments_lexer": "ipython3",
   "version": "3.6.8"
  }
 },
 "nbformat": 4,
 "nbformat_minor": 4
}
