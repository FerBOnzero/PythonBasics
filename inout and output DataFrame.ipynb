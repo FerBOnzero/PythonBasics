{
 "cells": [
  {
   "cell_type": "code",
   "execution_count": 1,
   "metadata": {},
   "outputs": [],
   "source": [
    "import numpy as np\n",
    "import pandas as pd\n",
    "from numpy.random import randn"
   ]
  },
  {
   "cell_type": "code",
   "execution_count": 2,
   "metadata": {},
   "outputs": [
    {
     "data": {
      "text/plain": [
       "'/home/fero/PythonCours'"
      ]
     },
     "execution_count": 2,
     "metadata": {},
     "output_type": "execute_result"
    }
   ],
   "source": [
    "pwd #esto para ver dónde se encuentra el bloc "
   ]
  },
  {
   "cell_type": "code",
   "execution_count": 3,
   "metadata": {
    "scrolled": true
   },
   "outputs": [
    {
     "data": {
      "text/html": [
       "<div>\n",
       "<style scoped>\n",
       "    .dataframe tbody tr th:only-of-type {\n",
       "        vertical-align: middle;\n",
       "    }\n",
       "\n",
       "    .dataframe tbody tr th {\n",
       "        vertical-align: top;\n",
       "    }\n",
       "\n",
       "    .dataframe thead th {\n",
       "        text-align: right;\n",
       "    }\n",
       "</style>\n",
       "<table border=\"1\" class=\"dataframe\">\n",
       "  <thead>\n",
       "    <tr style=\"text-align: right;\">\n",
       "      <th></th>\n",
       "      <th>W</th>\n",
       "      <th>X</th>\n",
       "      <th>Y</th>\n",
       "      <th>Z</th>\n",
       "    </tr>\n",
       "  </thead>\n",
       "  <tbody>\n",
       "    <tr>\n",
       "      <th>A</th>\n",
       "      <td>0.235452</td>\n",
       "      <td>0.069224</td>\n",
       "      <td>-1.212754</td>\n",
       "      <td>0.787027</td>\n",
       "    </tr>\n",
       "    <tr>\n",
       "      <th>B</th>\n",
       "      <td>-0.679721</td>\n",
       "      <td>-0.271846</td>\n",
       "      <td>0.518502</td>\n",
       "      <td>0.093805</td>\n",
       "    </tr>\n",
       "    <tr>\n",
       "      <th>C</th>\n",
       "      <td>-0.401421</td>\n",
       "      <td>-2.221989</td>\n",
       "      <td>0.120702</td>\n",
       "      <td>0.267568</td>\n",
       "    </tr>\n",
       "    <tr>\n",
       "      <th>D</th>\n",
       "      <td>-2.058191</td>\n",
       "      <td>0.955909</td>\n",
       "      <td>0.387841</td>\n",
       "      <td>0.008852</td>\n",
       "    </tr>\n",
       "    <tr>\n",
       "      <th>E</th>\n",
       "      <td>0.268078</td>\n",
       "      <td>-1.041129</td>\n",
       "      <td>-1.439324</td>\n",
       "      <td>-0.523664</td>\n",
       "    </tr>\n",
       "  </tbody>\n",
       "</table>\n",
       "</div>"
      ],
      "text/plain": [
       "          W         X         Y         Z\n",
       "A  0.235452  0.069224 -1.212754  0.787027\n",
       "B -0.679721 -0.271846  0.518502  0.093805\n",
       "C -0.401421 -2.221989  0.120702  0.267568\n",
       "D -2.058191  0.955909  0.387841  0.008852\n",
       "E  0.268078 -1.041129 -1.439324 -0.523664"
      ]
     },
     "execution_count": 3,
     "metadata": {},
     "output_type": "execute_result"
    }
   ],
   "source": [
    "df = pd.DataFrame(randn(5,4),[\"A\",\"B\",\"C\",\"D\",\"E\"],[\"W\",\"X\",\"Y\",\"Z\"])\n",
    "df"
   ]
  },
  {
   "cell_type": "code",
   "execution_count": 24,
   "metadata": {},
   "outputs": [
    {
     "name": "stdout",
     "output_type": "stream",
     "text": [
      "-0.5271602522526191\n",
      "A   -0.030263\n",
      "B   -0.084815\n",
      "C   -0.558785\n",
      "D   -0.176397\n",
      "E   -0.684010\n",
      "dtype: float64\n"
     ]
    }
   ],
   "source": [
    "print(df[\"W\"].mean())\n",
    "print(df.mean(axis=1)) #estp si deseamos sacar el primedio de las filas :)"
   ]
  },
  {
   "cell_type": "code",
   "execution_count": 25,
   "metadata": {},
   "outputs": [],
   "source": [
    "data = pd.read_html(\"http://www2.udec.cl/~alualem/ingles/lvi.html\")"
   ]
  },
  {
   "cell_type": "code",
   "execution_count": 26,
   "metadata": {},
   "outputs": [
    {
     "data": {
      "text/plain": [
       "list"
      ]
     },
     "execution_count": 26,
     "metadata": {},
     "output_type": "execute_result"
    }
   ],
   "source": [
    "type(data)"
   ]
  },
  {
   "cell_type": "code",
   "execution_count": 27,
   "metadata": {},
   "outputs": [
    {
     "data": {
      "text/plain": [
       "<bound method NDFrame.head of               0          1           2                                 3\n",
       "0    INFINITIVO     PASADO  PARTICIPIO                       SIGNIFICADO\n",
       "1         arise      arose      arisen     Elevarse, surgir, originarse.\n",
       "2         awake      awoke      awoken        Despertar, mover, excitar.\n",
       "3          bear       bore        born      Soportar, sostener, tolerar.\n",
       "4          beat       beat      beaten  Batir,revolver, golpear, vencer.\n",
       "..          ...        ...         ...                               ...\n",
       "134         win        Won         won                Ganar, conquistar.\n",
       "135        wind      Wound       wound  Enroscar(se), serpentear, girar.\n",
       "136    withdraw   Withdrew   withdrawn     Retirar, retractarse, quitar.\n",
       "137   withstand  Withstood   withstood     Resistir, oponerse, soportar.\n",
       "138       write      Wrote     written                         Escribir.\n",
       "\n",
       "[139 rows x 4 columns]>"
      ]
     },
     "execution_count": 27,
     "metadata": {},
     "output_type": "execute_result"
    }
   ],
   "source": [
    "data[1].head #aquí le puse uno, dado que la página es algo extraña, jajaja, quiero que me de la tabla"
   ]
  },
  {
   "cell_type": "code",
   "execution_count": 7,
   "metadata": {},
   "outputs": [],
   "source": [
    "from sqlalchemy import create_engine"
   ]
  },
  {
   "cell_type": "code",
   "execution_count": 9,
   "metadata": {},
   "outputs": [],
   "source": [
    "engine = create_engine(\"sqlite:///:memory:\")"
   ]
  },
  {
   "cell_type": "code",
   "execution_count": 10,
   "metadata": {},
   "outputs": [],
   "source": [
    "df.to_sql(\"My_table2.1. esta es la buena jeje\",engine)"
   ]
  },
  {
   "cell_type": "code",
   "execution_count": 11,
   "metadata": {},
   "outputs": [],
   "source": [
    "sqldf = pd.read_sql(\"My_table2.1. esta es la buena jeje\", con = engine)"
   ]
  },
  {
   "cell_type": "code",
   "execution_count": 12,
   "metadata": {},
   "outputs": [
    {
     "data": {
      "text/html": [
       "<div>\n",
       "<style scoped>\n",
       "    .dataframe tbody tr th:only-of-type {\n",
       "        vertical-align: middle;\n",
       "    }\n",
       "\n",
       "    .dataframe tbody tr th {\n",
       "        vertical-align: top;\n",
       "    }\n",
       "\n",
       "    .dataframe thead th {\n",
       "        text-align: right;\n",
       "    }\n",
       "</style>\n",
       "<table border=\"1\" class=\"dataframe\">\n",
       "  <thead>\n",
       "    <tr style=\"text-align: right;\">\n",
       "      <th></th>\n",
       "      <th>index</th>\n",
       "      <th>W</th>\n",
       "      <th>X</th>\n",
       "      <th>Y</th>\n",
       "      <th>Z</th>\n",
       "    </tr>\n",
       "  </thead>\n",
       "  <tbody>\n",
       "    <tr>\n",
       "      <th>0</th>\n",
       "      <td>A</td>\n",
       "      <td>0.837654</td>\n",
       "      <td>-0.861428</td>\n",
       "      <td>-0.064196</td>\n",
       "      <td>0.487150</td>\n",
       "    </tr>\n",
       "    <tr>\n",
       "      <th>1</th>\n",
       "      <td>B</td>\n",
       "      <td>0.102367</td>\n",
       "      <td>1.173818</td>\n",
       "      <td>0.221479</td>\n",
       "      <td>-0.270052</td>\n",
       "    </tr>\n",
       "    <tr>\n",
       "      <th>2</th>\n",
       "      <td>C</td>\n",
       "      <td>-0.607845</td>\n",
       "      <td>-0.221349</td>\n",
       "      <td>1.705848</td>\n",
       "      <td>0.008847</td>\n",
       "    </tr>\n",
       "    <tr>\n",
       "      <th>3</th>\n",
       "      <td>D</td>\n",
       "      <td>1.072269</td>\n",
       "      <td>0.966611</td>\n",
       "      <td>1.104636</td>\n",
       "      <td>-0.270020</td>\n",
       "    </tr>\n",
       "    <tr>\n",
       "      <th>4</th>\n",
       "      <td>E</td>\n",
       "      <td>1.653565</td>\n",
       "      <td>-1.527303</td>\n",
       "      <td>-0.411298</td>\n",
       "      <td>-0.176164</td>\n",
       "    </tr>\n",
       "  </tbody>\n",
       "</table>\n",
       "</div>"
      ],
      "text/plain": [
       "  index         W         X         Y         Z\n",
       "0     A  0.837654 -0.861428 -0.064196  0.487150\n",
       "1     B  0.102367  1.173818  0.221479 -0.270052\n",
       "2     C -0.607845 -0.221349  1.705848  0.008847\n",
       "3     D  1.072269  0.966611  1.104636 -0.270020\n",
       "4     E  1.653565 -1.527303 -0.411298 -0.176164"
      ]
     },
     "execution_count": 12,
     "metadata": {},
     "output_type": "execute_result"
    }
   ],
   "source": [
    "sqldf"
   ]
  }
 ],
 "metadata": {
  "kernelspec": {
   "display_name": "Python 3",
   "language": "python",
   "name": "python3"
  },
  "language_info": {
   "codemirror_mode": {
    "name": "ipython",
    "version": 3
   },
   "file_extension": ".py",
   "mimetype": "text/x-python",
   "name": "python",
   "nbconvert_exporter": "python",
   "pygments_lexer": "ipython3",
   "version": "3.6.8"
  }
 },
 "nbformat": 4,
 "nbformat_minor": 4
}
