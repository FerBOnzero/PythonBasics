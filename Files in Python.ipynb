{
 "cells": [
  {
   "cell_type": "code",
   "execution_count": 6,
   "metadata": {},
   "outputs": [
    {
     "name": "stdout",
     "output_type": "stream",
     "text": [
      "jejeje\n",
      "Enter your name: Estoy escribiendo esto desde Python en la fecha 4-noviembre-2020\n"
     ]
    }
   ],
   "source": [
    "my_file = open(\"Prueba.txt\", \"r\")\n",
    "file_content = my_file.read()\n",
    "\n",
    "my_file.close()\n",
    "\n",
    "print(file_content)\n",
    "\n",
    "user_name =  input(\"Enter your name: \")\n",
    "\n",
    "my_file_w = open(\"Prueba.txt\", \"w\") \n",
    "my_file_w.write(user_name)\n",
    "\n",
    "my_file_w.close()"
   ]
  },
  {
   "cell_type": "code",
   "execution_count": 8,
   "metadata": {},
   "outputs": [
    {
     "name": "stdout",
     "output_type": "stream",
     "text": [
      "Fernando\n",
      "Onofre\n",
      "Jes\n",
      "Ana\n",
      "Airam \n",
      "Jullyanna\n",
      "Evelin \n",
      "Vika \n",
      "Samanta \n",
      "Amy \n",
      "\n"
     ]
    }
   ],
   "source": [
    "mfile = open(\"People.txt\", \"r\")\n",
    "file_cont = mfile.read()\n",
    "\n",
    "mfile.close()\n",
    "print(file_cont)"
   ]
  }
 ],
 "metadata": {
  "kernelspec": {
   "display_name": "Python 3",
   "language": "python",
   "name": "python3"
  },
  "language_info": {
   "codemirror_mode": {
    "name": "ipython",
    "version": 3
   },
   "file_extension": ".py",
   "mimetype": "text/x-python",
   "name": "python",
   "nbconvert_exporter": "python",
   "pygments_lexer": "ipython3",
   "version": "3.6.8"
  }
 },
 "nbformat": 4,
 "nbformat_minor": 4
}
