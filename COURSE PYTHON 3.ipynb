{
 "cells": [
  {
   "cell_type": "code",
   "execution_count": 32,
   "metadata": {},
   "outputs": [
    {
     "name": "stdout",
     "output_type": "stream",
     "text": [
      "helllo I'm 18\n"
     ]
    }
   ],
   "source": [
    "#función para poder ejecutar una cadena con algún tipo de variable, no específico \n",
    "var = 18\n",
    "print (f\"helllo I'm {var}\" ) #función f, esto para usarlas llaves"
   ]
  },
  {
   "cell_type": "code",
   "execution_count": 13,
   "metadata": {
    "scrolled": true
   },
   "outputs": [
    {
     "name": "stdout",
     "output_type": "stream",
     "text": [
      "How are you, Fernand?\n",
      "Bob is 30 years old.\n"
     ]
    }
   ],
   "source": [
    "#.format para poder modificar el valor de una variable \n",
    "name1 = \"Fernand\"\n",
    "word = \"How are you, {}?\"\n",
    "word2 = word.format(name1) #.format te da la opción de que puedas cambiar de valor en variable\n",
    "print (word2)\n",
    "\n",
    "description = \"{} is {} years old.\"\n",
    "print(description.format(\"Bob\", 30))#puedes usar .format en la sentencia print "
   ]
  },
  {
   "cell_type": "code",
   "execution_count": 85,
   "metadata": {},
   "outputs": [
    {
     "name": "stdout",
     "output_type": "stream",
     "text": [
      "Enter your name: jeje\n",
      "Hello jeje. My nameis Fernando\n"
     ]
    }
   ],
   "source": [
    "#input para poder trabajar sobre la consola\n",
    "myname = \"Fernando\"\n",
    "yourname = input(\"Enter your name: \")\n",
    "print (f\"Hello {yourname}. My name is {myname}\")"
   ]
  },
  {
   "cell_type": "code",
   "execution_count": 14,
   "metadata": {},
   "outputs": [
    {
     "name": "stdout",
     "output_type": "stream",
     "text": [
      "enter your number: 3463463475373721\n",
      "es impar\n"
     ]
    }
   ],
   "source": [
    "#transformar el tipo de variable en uno determinado según lo solicite el programador\n",
    "num = int(input(\"enter your number: \")) #hay q decir q tipo de variable se está utilizando, sino trabajará sobre ella como una cadena más\n",
    "if (num % 2 == 0):\n",
    "    print(\"es par\")\n",
    "else: \n",
    "    print(\"es impar\")"
   ]
  },
  {
   "cell_type": "code",
   "execution_count": 9,
   "metadata": {},
   "outputs": [
    {
     "name": "stdout",
     "output_type": "stream",
     "text": [
      "enter your age: 46\n",
      "your age in months is 552\n"
     ]
    }
   ],
   "source": [
    "#aplicar las operaciones con cada tipo de variable\n",
    "AGE = int(input(\"enter your age: \")) #estmos transformando la variable en un entero\n",
    "print (f\"your age in months is {AGE * 12}\")"
   ]
  },
  {
   "cell_type": "code",
   "execution_count": 12,
   "metadata": {},
   "outputs": [
    {
     "name": "stdout",
     "output_type": "stream",
     "text": [
      "Enter your number: 5\n",
      "True\n"
     ]
    }
   ],
   "source": [
    "#comparaciones booleanas\n",
    "my_number = 3\n",
    "your_number = int(input(\"Enter your number: \"))\n",
    "print(my_number <= your_number) #aquí podemos notar que hay cierta comparación booleana, me refiero a los signos <=, ==>, <, >, wc=="
   ]
  },
  {
   "cell_type": "code",
   "execution_count": 15,
   "metadata": {},
   "outputs": [
    {
     "name": "stdout",
     "output_type": "stream",
     "text": [
      "Enter your nummer: 7\n",
      "Your number is in the inverval a: True.\n",
      "enter your age: 6\n",
      "At 6, you usually not working: True.\n",
      " My value is True\n"
     ]
    }
   ],
   "source": [
    "#comparaciones booleanas\n",
    "a = int(input(\"Enter your nummer: \"))\n",
    "b = a>1 and a<15 #sentencia \"y\", funciona igual que en \"lógica y propociones\" de maths\n",
    "print (f\"Your number is in the inverval a: {b}.\")\n",
    "age = int(input(\"enter your age: \"))\n",
    "working = age<18 or age>65 #sentencia \"o\", funciona igual que en \"lógica y propociones\" de maths\n",
    "print (f\"At {age}, you usually not working: {working}.\")\n",
    "\n",
    "print(f\" My value is {bool(-1)}\")"
   ]
  },
  {
   "cell_type": "code",
   "execution_count": 40,
   "metadata": {},
   "outputs": [
    {
     "name": "stdout",
     "output_type": "stream",
     "text": [
      "0\n",
      "False\n",
      "0\n",
      "False\n",
      "False\n"
     ]
    }
   ],
   "source": [
    "#aplicaciones de \"and\" y \"or\"\n",
    "x = 0 and \"\" #si alguno de los dos valores es falso, entonces nos imrpimirá dicho valor falso, y si los dos son V, entonces nos dará el segundo valor, es decir, el del lado derecho de \"and\", si ambos son F, nos dará el primer valor asignado\n",
    "print(x)\n",
    "y = \"\" or 0 #if the first value is False then the second value after the or; which is True, si los dos son V, entonces nos dará el primer valor que demos, si ambos son F, nos dará el segundo valor asignado\n",
    "#That's correct! The `or` keyword just returns the second value if the first one evaluates to `False`.\n",
    "z = 17>20 or 21<20\n",
    "print(z)\n",
    "print(y)\n",
    "print(not True) #análogo con False\n",
    "print(not 2) #Python se da cuenta que antes de usar \"not\" 2 lo convierte en boolean sin necesidad de declararlo\n"
   ]
  },
  {
   "cell_type": "code",
   "execution_count": 12,
   "metadata": {},
   "outputs": [
    {
     "name": "stdout",
     "output_type": "stream",
     "text": [
      "yi\n",
      "a\n",
      "['yo', 'ye', 'yi', 'ya', 2]\n",
      "['yo', 'ye', 'yi', 'ya']\n"
     ]
    }
   ],
   "source": [
    "#listas\n",
    "family = [\"yo\", \"ye\", \"yi\", \"ya\"] #estamos creando una lista, si queremos acceder a algún elemento de lla, sólo la invocamos como lo hicimos abajo. la cuenta comienza ddesde cero \n",
    "print (family[2])\n",
    "vocales = [[\"a\",1],[\"e\",2],[\"i\",3],[\"o\",4],[\"u\",5],] #podemos poner listas dentro de listas y para llamarlas, hay que especificar la localización de la lista y aparte su elemento q se busca rescatar\n",
    "print (vocales[0][0])\n",
    "family.append(2) #usamos .append si deseamos agregar un elemnto a la lista en cuestión; esta será aggregada al último lugar de la lista \n",
    "print(family)\n",
    "family.remove(2) #usamos .remove si deseamos eliminar el último elemento de la lista, en este caso 2 \n",
    "print(family)"
   ]
  },
  {
   "cell_type": "code",
   "execution_count": 34,
   "metadata": {},
   "outputs": [
    {
     "name": "stdout",
     "output_type": "stream",
     "text": [
      "('fer', 'bob', 'jen')\n"
     ]
    }
   ],
   "source": [
    "#tuplas\n",
    "friends = (\"fer\", \"bob\")\n",
    "friends = friends + (\"jen\",)\n",
    "print(friends) #una diferencia clave entre las listas y tuplas es que en laslistas puedes agregar y eliminar elementos, en las tuplas no, por lo que son convenientes cuando no deseas hacer cambios "
   ]
  },
  {
   "cell_type": "code",
   "execution_count": 51,
   "metadata": {},
   "outputs": [
    {
     "name": "stdout",
     "output_type": "stream",
     "text": [
      "{'b', 'd', 'c', 'a'}\n",
      "{'b', 'c', 'a'}\n",
      "{'b', 'a', 'c'}\n",
      "{'e', 'f'}\n",
      "{'f', 'e', 'b', 'a', 'c'}\n",
      "set()\n",
      "{'e', 'a', 'c', 'f', 'b'}\n",
      "set()\n",
      "{'b', 'a', 'c'}\n"
     ]
    }
   ],
   "source": [
    "#sets\n",
    "names = {\"a\", \"b\", \"c\"} #los conjuntos no respetan el orden de sus elementos, no importa eso aquí ni duplicados de los mismos\n",
    "names.add(\"d\") #al agregar un nuevo elemento, lo colocará en un lugar arbitrario, aunque tampoco es seguro que el cambio se mantengadurante todo el programa\n",
    "print(names)\n",
    "names.remove(\"d\")\n",
    "print(names)\n",
    "#los conjuntos suelen ser muy útiles en la comparación entre conjuntos c:\n",
    "\n",
    "#diferencia de conjuntos (tal y como se ve en álgebra)\n",
    "names2 = {\"e\", \"f\"}\n",
    "namesnames2 = names.difference(names2)\n",
    "names2names = names2.difference(names)\n",
    "\n",
    "print(namesnames2)\n",
    "print(names2names)\n",
    "#diferencia simétrica (álgebra de conjuntos)\n",
    "differencesymmetric = names.symmetric_difference(names2) #no importa cuál pongas primero, puede ser (names2.symmetric_difference(names)) nos imprimirá lo mismo \n",
    "print(differencesymmetric)\n",
    "#intersection y union (álgebra de conjuntos)\n",
    "intersection1 = names.intersection(names2)\n",
    "union1 = names.union(names2)\n",
    "print(intersection1) #si no hay intersección, entonces nos arrojará \"set()\" lo cual lo podemos interpretar como el conjunto vacío \n",
    "print(union1)\n",
    "names3 = set() #conjunto vacío\n",
    "inter2 = names.intersection(names3) #claro que la intersección es el conjunto vacío mismo\n",
    "print(inter2)\n",
    "union2 = names.union(names3)\n",
    "print(union2) "
   ]
  },
  {
   "cell_type": "code",
   "execution_count": 59,
   "metadata": {},
   "outputs": [
    {
     "name": "stdout",
     "output_type": "stream",
     "text": [
      "give me your name's friend: fdmksgks\n",
      "set()\n"
     ]
    }
   ],
   "source": [
    "nearby_people = {'Rolf', 'Jen', 'Anna'}\n",
    "user_friends = set()  # This is an empty set, like {}\n",
    "\n",
    "\n",
    "username = input(\"give me your name's friend: \")\n",
    "\n",
    "# Add the friend to the user_friends set\n",
    "user_friends.add(username)\n",
    "# Print out the friends that are nearby... those which are in both sets!\n",
    "print(user_friends.intersection(nearby_people))\n",
    "\n"
   ]
  },
  {
   "cell_type": "code",
   "execution_count": 5,
   "metadata": {},
   "outputs": [
    {
     "name": "stdout",
     "output_type": "stream",
     "text": [
      "28\n",
      "{'b': 14, 'a': 11, 'c': 28, 'd': 12}\n",
      "{'ab': 23, 'eb': 12, 'ib': 13}\n"
     ]
    },
    {
     "ename": "KeyError",
     "evalue": "1",
     "output_type": "error",
     "traceback": [
      "\u001b[0;31m---------------------------------------------------------------------------\u001b[0m",
      "\u001b[0;31mKeyError\u001b[0m                                  Traceback (most recent call last)",
      "\u001b[0;32m<ipython-input-5-b2984d615f2a>\u001b[0m in \u001b[0;36m<module>\u001b[0;34m\u001b[0m\n\u001b[1;32m     16\u001b[0m     \u001b[0;34m'Anne'\u001b[0m\u001b[0;34m:\u001b[0m \u001b[0;36m6\u001b[0m\u001b[0;34m\u001b[0m\u001b[0;34m\u001b[0m\u001b[0m\n\u001b[1;32m     17\u001b[0m }\n\u001b[0;32m---> 18\u001b[0;31m \u001b[0mprint\u001b[0m\u001b[0;34m(\u001b[0m\u001b[0mmy_friends\u001b[0m\u001b[0;34m[\u001b[0m\u001b[0;36m1\u001b[0m\u001b[0;34m]\u001b[0m\u001b[0;34m)\u001b[0m\u001b[0;34m\u001b[0m\u001b[0;34m\u001b[0m\u001b[0m\n\u001b[0m\u001b[1;32m     19\u001b[0m \u001b[0mprint\u001b[0m\u001b[0;34m(\u001b[0m\u001b[0mmy_friends\u001b[0m\u001b[0;34m[\u001b[0m\u001b[0;34m'Jose'\u001b[0m\u001b[0;34m]\u001b[0m\u001b[0;34m[\u001b[0m\u001b[0;34m\"last_seen\"\u001b[0m\u001b[0;34m]\u001b[0m\u001b[0;34m)\u001b[0m\u001b[0;34m\u001b[0m\u001b[0;34m\u001b[0m\u001b[0m\n\u001b[1;32m     20\u001b[0m \u001b[0;31m#In this code we are accessing the 'Jose' key of the my_friends dictionary. The result is whatever was associated with that key.\u001b[0m\u001b[0;34m\u001b[0m\u001b[0;34m\u001b[0m\u001b[0;34m\u001b[0m\u001b[0m\n",
      "\u001b[0;31mKeyError\u001b[0m: 1"
     ]
    }
   ],
   "source": [
    "#dictionaries\n",
    "\n",
    "ages = {\"b\": 14, \"a\": 19, \"c\": 28} #no acepta key duplicados, deben ser únicos\n",
    "print(ages[\"c\"])\n",
    "ages[\"d\"] = 12 #si deseamos agregar un nuevo elemento a nuestro diccionario, entonces lo hacemos de esta forma, los dos puntos sólo van adentro de la definición de arriba\n",
    "ages[\"a\"] = 11 #mismo caso para editar la \"deficinión\" de algo dentro del diciconario\n",
    "print(ages)\n",
    "\n",
    "vocalsb = [(\"ab\", 23), (\"eb\", 12), (\"ib\", 13)]\n",
    "voocal = dict(vocalsb) #los transforma en diccionarios la variable vocalsb, esto en dicho formato de vocalsb\n",
    "print (voocal)\n",
    "\n",
    "my_friends = {\n",
    "    'Jose': {'last_seen': 6},\n",
    "    'Rolf': {'surname': 'Smith'},\n",
    "    'Anne': 6\n",
    "}\n",
    "print(my_friends[1])\n",
    "print(my_friends['Jose'][\"last_seen\"])\n",
    "#In this code we are accessing the 'Jose' key of the my_friends dictionary. The result is whatever was associated with that key.\n",
    "my_friends['Jose']['last_seen']\n",
    "\n",
    "players = [\n",
    "    {\n",
    "        'name': 'Rolf',\n",
    "        'numbers': (13, 22, 3, 6, 9)\n",
    "    },\n",
    "    {\n",
    "        'name': 'John',\n",
    "        'numbers': (22, 3, 5, 7, 9)\n",
    "    }\n",
    "]\n",
    "print(players[0]['numbers'])\n",
    "print(players[0]['numbers'][0])"
   ]
  },
  {
   "cell_type": "code",
   "execution_count": 13,
   "metadata": {},
   "outputs": [
    {
     "name": "stdout",
     "output_type": "stream",
     "text": [
      "24.0\n"
     ]
    }
   ],
   "source": [
    "#lenght and sum\n",
    "grades = [12,14,14,56]\n",
    "    #por qué no es \"conveniente\" utilizar una tupla o conjunto?\n",
    "    #pq en la tupla no podrías agregar un nuevo elemento si lo deseas\n",
    "    #pq en el conjunto no permite valores duplicados, esto puede ser inconveniente a la hora de querer calcular su longitud y sumar sus elementos \n",
    "    #por lo que es conveniente utilizar en este caso a las listas \n",
    "\n",
    "total = sum(grades) #suma todos los elementos de la lista que tenemos arriba c:\n",
    "lenght = len(grades) #nos da la longitud de la lista \n",
    "\n",
    "average = total / lenght #calculamos el promedio para darnos una idea de cómo funciona  la sum y lenght\n",
    "print(average)"
   ]
  },
  {
   "cell_type": "code",
   "execution_count": 14,
   "metadata": {},
   "outputs": [
    {
     "name": "stdout",
     "output_type": "stream",
     "text": [
      "Player Rolf got 3 numbers right.\n",
      "Player Jose got 0 numbers right.\n"
     ]
    }
   ],
   "source": [
    "lottery_numbers = {13, 21, 22, 5, 8}\n",
    " \n",
    "\"\"\"\n",
    "A player looks like this:\n",
    " \n",
    "{\n",
    "    'name': 'PLAYER_NAME',\n",
    "    'numbers': {1, 2, 3, 4, 5}\n",
    "}\n",
    " \n",
    "Define a list with two players (you can come up with their names and numbers).\n",
    "\"\"\"\n",
    "players = [\n",
    "    {\n",
    "        \"name\": \"Rolf\",\n",
    "        \"numbers\": {1, 3, 8, 22, 21}\n",
    "    },\n",
    "    {\n",
    "        \"name\": \"Jose\",\n",
    "        \"numbers\": {4, 9, 10, 12, 15}\n",
    "    }\n",
    "]\n",
    " \n",
    "# For each of the two players, print out a string like this: \"Player PLAYER_NAME got 3 numbers right.\".\n",
    "# Of course, replace PLAYER_NAME by their name, and the 3 by the amount of numbers they matched with lottery_numbers.\n",
    "# You'll have to access each player's name and numbers, and calculate the intersection of their numbers with lottery_numbers.\n",
    "# Then construct a string and print it out.\n",
    " \n",
    "# Remember: the string must contain the player's name and the amount of numbers they got right!\n",
    "name = players[0][\"name\"]\n",
    "numbers = players[0][\"numbers\"].intersection(lottery_numbers)\n",
    "print(f\"Player {name} got {len(numbers)} numbers right.\")\n",
    " \n",
    "name = players[1][\"name\"]\n",
    "numbers = players[1][\"numbers\"].intersection(lottery_numbers)\n",
    "print(f\"Player {name} got {len(numbers)} numbers right.\")"
   ]
  },
  {
   "cell_type": "code",
   "execution_count": 11,
   "metadata": {},
   "outputs": [
    {
     "name": "stdout",
     "output_type": "stream",
     "text": [
      "My friends are 33 23 5\n"
     ]
    }
   ],
   "source": [
    "friend = [\"3\", \"2\", \"5\"]\n",
    "comma_separated = \"3 \" .join(friend) \n",
    "#agarrará los valores de friend y los separara con lo que deseemos siendo cadena, antes de .join\n",
    "print(f\"My friends are {comma_separated}\") #nótese que no agrega el string después del último elemento, ¿por qué?\n"
   ]
  },
  {
   "cell_type": "code",
   "execution_count": 7,
   "metadata": {},
   "outputs": [
    {
     "name": "stdout",
     "output_type": "stream",
     "text": [
      "enter a lettera\n",
      "right!\n",
      "Enter your name: g\n",
      "who are you?\n"
     ]
    }
   ],
   "source": [
    "#if/else\n",
    "name = \"a\"\n",
    "username1 = input(\"enter a letter\")\n",
    "if name == username1: \n",
    "    print(\"right!\")\n",
    "else : \n",
    "    print(\"wrong\") \n",
    "    \n",
    "friends = [\"A\", \"B\", \"C\", \"D\"]\n",
    "family = [\"E\", \"F\"]\n",
    "\n",
    "user1 = input(\"Enter your name: \")\n",
    "if (user1 in friends or user1 in family): #otra forma alterna a esto es poner: elif user1 in family: print(\"hello\")    esto debajo de if \n",
    "    print(\"HEllo\")\n",
    "else : \n",
    "    print(\"who are you?\")"
   ]
  },
  {
   "cell_type": "code",
   "execution_count": 9,
   "metadata": {},
   "outputs": [
    {
     "name": "stdout",
     "output_type": "stream",
     "text": [
      "You are learning\n",
      "are you still learning? no\n"
     ]
    }
   ],
   "source": [
    "#while loops\n",
    "is_learn = True \n",
    "while is_learn: \n",
    "    print(\"You are learning\")\n",
    "    user_input = input(\"are you still learning? \")\n",
    "    is_learn = user_input == \"yes\" \n",
    "    "
   ]
  },
  {
   "cell_type": "code",
   "execution_count": 11,
   "metadata": {},
   "outputs": [
    {
     "name": "stdout",
     "output_type": "stream",
     "text": [
      "Enter q or p: p\n",
      "Hello\n",
      "Enter q or p: p\n",
      "Hello\n",
      "Enter q or p: \n",
      "Enter q or p: p\n",
      "Hello\n",
      "Enter q or p: \n",
      "Enter q or p: \n",
      "Enter q or p: \n",
      "Enter q or p: \n",
      "Enter q or p: \n",
      "Enter q or p: q\n"
     ]
    }
   ],
   "source": [
    "user_input = input(\"Enter q or p: \")\n",
    " \n",
    "# Now we must repeat until they type 'q':\n",
    "while user_input != \"q\":\n",
    "    # Inside our loop, check if they typed 'p'. If they did, print \"Hello\"\n",
    "    if user_input == \"p\":\n",
    "        print(\"Hello\")\n",
    "    # Now we must ask the user for their input again—otherwise we would be in an infinite loop!\n",
    "    user_input = input(\"Enter q or p: \")"
   ]
  },
  {
   "cell_type": "code",
   "execution_count": 29,
   "metadata": {},
   "outputs": [
    {
     "name": "stdout",
     "output_type": "stream",
     "text": [
      "0\n",
      "1\n",
      "2\n",
      "3\n",
      "4\n",
      "5\n",
      "6\n",
      "7\n",
      "8\n",
      "9\n",
      "Hi\n",
      "Hi\n",
      "Hi\n",
      "Hi\n",
      "Hi\n",
      "Hi\n",
      "Hi\n",
      "Hi\n",
      "Hi\n",
      "Hi\n",
      "1\n",
      "6\n",
      "F has a grade of 10\n",
      "A has a grade of 6\n",
      "E has a grade of 1\n"
     ]
    }
   ],
   "source": [
    "elements = [\"0\",\"1\",\"2\",\"3\",\"4\",\"5\",\"6\",\"7\",\"8\",\"9\"]\n",
    "for age in elements: \n",
    "    print(age) #aquí nos dará por cada variable _ un elemtno, es decir, nos imprimirá del 0 al 9, podemos print cualquier cosa\n",
    "\n",
    "for _ in range (10): #la variable no se usa más que para indicar a python que trabajarás con una variable soble el rango o variable que hayasdeclarado con n elementos\n",
    "    print(\"Hi\") #ponemos guión bajo cuando deseamos que imprima toda la lista de n elemento n veces c:\n",
    "#range (begin, end, incremento) aquí podemos ver la estructura de range, trabaja bien sobre tres valores, el inivio, el fin y el incremento que tendrá hasta llegar al fin o antes, depende del incremento\n",
    "for index in range (1, 7, 5): #también notemos que trabaja con valores numéricos enteros\n",
    "    print(index)\n",
    "    \n",
    "students = [ #recordar que así se ddefinen en diccionarios de python\n",
    "    {\"name\": \"F\", \"grade\": 10},\n",
    "    {\"name\": \"A\", \"grade\": 6},\n",
    "    {\"name\": \"E\", \"grade\": 1},\n",
    "]\n",
    "for student in students:\n",
    "    name = student[\"name\"]    #recordar que para acceder a algo de el diccionario se hace de esta manera\n",
    "    grade = student[\"grade\"]\n",
    "    print(f\"{name} has a grade of {grade}\")\n",
    "#usamos for cuando queramos repetir algún número de veces algo y sepamos cuantas"
   ]
  },
  {
   "cell_type": "code",
   "execution_count": 36,
   "metadata": {},
   "outputs": [
    {
     "name": "stdout",
     "output_type": "stream",
     "text": [
      "('b', 21)\n",
      "('c', 20)\n",
      "b 21\n",
      "c 20\n"
     ]
    }
   ],
   "source": [
    "friend = [(\"b\", 21,),(\"c\", 20)]\n",
    "for friends in friend:\n",
    "    print(friends)\n",
    "    \n",
    "for name, age in friend: #al ser dos variables antes de in, estamos rescatando los dos valores de la tupla en cuestión, esta es una forma más \"limpia\" de imprimir\n",
    "    print(name, age)\n",
    "    "
   ]
  },
  {
   "cell_type": "code",
   "execution_count": 44,
   "metadata": {},
   "outputs": [
    {
     "name": "stdout",
     "output_type": "stream",
     "text": [
      "a\n",
      "b\n",
      "c\n",
      "1\n",
      "2\n",
      "3\n",
      "('a', 1)\n",
      "('b', 2)\n",
      "('c', 3)\n",
      "a value 1\n",
      "b value 2\n",
      "c value 3\n"
     ]
    }
   ],
   "source": [
    "#también podemos itenerar diccionarios además de listas y tuplas\n",
    "dictio = {\"a\": 1, \"b\": 2, \"c\": 3}\n",
    "\n",
    "for position in dictio:\n",
    "    print(position) #aquí nos dará las definiciones que estamos definiendo, vaya, en el diccionario \n",
    "        \n",
    "for position in dictio.values(): #.values es para acceder a los valores del diccionaario\n",
    "    print(position)\n",
    "\n",
    "for position in dictio.items(): #.items nos arrojará en forma de dupla los valores y definiciones\n",
    "    print(position)\n",
    "\n",
    "for pos, ition in dictio.items(): #aquí hay un ejemplo con función f\n",
    "    print(f\"{pos} value {ition}\")"
   ]
  },
  {
   "cell_type": "code",
   "execution_count": 4,
   "metadata": {},
   "outputs": [
    {
     "name": "stdout",
     "output_type": "stream",
     "text": [
      "The status is faulty\n",
      "continue..\n",
      "The status is faulty\n",
      "continue..\n",
      "no hay pedo aquí\n",
      "The status is faulty\n",
      "continue..\n"
     ]
    }
   ],
   "source": [
    "#break and continue\n",
    "status = [\"ok\", \"ok\", \"faulty\", \"ok\"]\n",
    "for state in status:\n",
    "    if state == \"faulty\": \n",
    "        print(\"here's an error\")\n",
    "        break\n",
    "    print(f\"The status is {state}\")\n",
    "    print(\"continue..\")\n",
    "for state2 in status: \n",
    "    if state2 == \"faulty\": \n",
    "        print(\"no hay pedo aquí\")\n",
    "        continue\n",
    "    print(f\"The status is {state}\")\n",
    "    print(\"continue..\")"
   ]
  },
  {
   "cell_type": "code",
   "execution_count": 7,
   "metadata": {},
   "outputs": [
    {
     "name": "stdout",
     "output_type": "stream",
     "text": [
      "1\n",
      "2\n",
      "Fizz\n",
      "4\n",
      "Buzz\n",
      "Fizz\n",
      "7\n",
      "8\n",
      "Fizz\n",
      "Buzz\n",
      "11\n",
      "Fizz\n",
      "13\n",
      "14\n",
      "FizzBuzz\n",
      "16\n",
      "17\n"
     ]
    }
   ],
   "source": [
    "for n in range(1, 18):\n",
    "    if n % 3 == 0 and n % 5 == 0:\n",
    "        print(\"FizzBuzz\")\n",
    "    elif n % 3 == 0:\n",
    "        print(\"Fizz\")\n",
    "    elif n % 5 == 0:\n",
    "        print(\"Buzz\")\n",
    "    else:\n",
    "        print(n)"
   ]
  },
  {
   "cell_type": "code",
   "execution_count": 13,
   "metadata": {},
   "outputs": [
    {
     "name": "stdout",
     "output_type": "stream",
     "text": [
      "8776578604 equals 2 * 4388289302.0 therefore isn´t prime \n"
     ]
    }
   ],
   "source": [
    "for n in range (8776578604,8776578605): \n",
    "    for x in range(2, n):\n",
    "        if n%x == 0:\n",
    "            print(f\"{n} equals {x} * {n/x} therefore isn´t prime \")\n",
    "            break\n",
    "    else: \n",
    "        print(f\"{n} is a prime number\")"
   ]
  },
  {
   "cell_type": "code",
   "execution_count": 50,
   "metadata": {},
   "outputs": [
    {
     "name": "stdout",
     "output_type": "stream",
     "text": [
      "['Oka', 'Faulty', 'Oki']\n",
      "['Oka', 'Faulty', 'Oki']\n",
      "('a', 'o', 'i')\n",
      "[0, 2, 4, 6, 8]\n",
      "[0.0, 0.5, 1.0, 1.5, 2.0, 2.5]\n",
      "['oke', 'oka', 'faulty', 'oki']\n",
      "['OKE', 'OKA', 'FAULTY', 'OKI']\n"
     ]
    }
   ],
   "source": [
    "#list slicing\n",
    "status = [\"Oke\", \"Oka\", \"Faulty\", \"Oki\"]\n",
    "print(status[1:4])#te da un fragmento de la lista en cuestión c: \n",
    "print(status[1:]) #esta declaraación [1:] omite sólo al primer elemento de la lista, análogo con [:n]\n",
    "status1 = (\"e\", \"a\", \"o\", \"i\")\n",
    "print(status1[1:4]) #mandamos llamar l igual que en las listas, puedes usar números negativas, es decir -1 comienza desde el nuevo elemento, -2 el penúltimo y así sucesivamente\n",
    "\n",
    "numbers = [0, 1, 2, 3, 4]\n",
    "doble_num =[]\n",
    "\n",
    "for number in numbers: \n",
    "    doble_num.append(number*2)\n",
    "\n",
    "print(doble_num)\n",
    "\n",
    "doble_numb = [number/2 for number in range(6)] #esta es una maner de expresar lo de arriba \n",
    "#debe de ir en corchetes porque estás creando una nueva lista\n",
    "print(doble_numb) #bien podríamos decirle que divida en lugar de multiplicar, dependen los interes del usuario\n",
    "\n",
    "lower = [state.lower() for state in status] #ahora lo que hicimos es transformar todos los elementos en minúscula, creando una lista nueva de las mismas\n",
    "print(lower)\n",
    "upper = [state.upper() for state in status]\n",
    "print(upper)"
   ]
  },
  {
   "cell_type": "code",
   "execution_count": 26,
   "metadata": {},
   "outputs": [
    {
     "name": "stdout",
     "output_type": "stream",
     "text": [
      "[25]\n",
      "['Aa', 'Bb']\n",
      "{'aa', 'bb'}\n",
      "{}\n"
     ]
    }
   ],
   "source": [
    "#comprehensions ith conditionals\n",
    "ages = [12, 25, 18]\n",
    "odd = [age for age in ages if age%2 == 1]\n",
    "print(odd)\n",
    "\n",
    "friends = [\"Aa\", \"Bb\", \"Cc\"]\n",
    "guests = [\"aa\", \"bb\", \"dd\"]\n",
    "\n",
    "friends_lower = [f.lower() for f in friends] #no olvidadr el () despues de .lower \n",
    "present_friends = [\n",
    "    name.title() for name in guests if name.lower() in friends_lower\n",
    "]\n",
    "print(present_friends)\n",
    "\n",
    "friends_lower1 = set([n.lower() for n in friends]) #o bien, {n.lower() for n in friends}\n",
    "guests_lower = set([n.lower() for n in guests]) #o bien, {n.lower() for n in guests}\n",
    "print(friends_lower1.intersection(guests_lower))\n",
    "\n",
    "long_timers ={\n",
    "    friends[i]: ages[i]\n",
    "    for i in range(len(friends)) #para esto necestiamos el mismo numero de elementos de las dos listas a pasar como diccionarios\n",
    "    if ages[i]<5 #quí sólo le pedimos los elementos que sean menores a 5\n",
    "}\n",
    "print(long_timers)\n"
   ]
  },
  {
   "cell_type": "code",
   "execution_count": 33,
   "metadata": {},
   "outputs": [
    {
     "name": "stdout",
     "output_type": "stream",
     "text": [
      "[('Fe', 18, 12), ('Rn', 19, 14)]\n",
      "{'Fe': 18, 'Rn': 19}\n"
     ]
    }
   ],
   "source": [
    "#the zip function, esta función combina dos o más listas en una sola\n",
    "#lo que hace la función zip es tomar en el caso de dos listas, ese par de listas con misma longitud, las junta en tuplas, es decir: \n",
    "friends = [\"Fe\", \"Rn\"]\n",
    "ages = [18, 19, 23]\n",
    "ages1 = [12,14,15]\n",
    "lista=list(zip(friends, ages,ages1))\n",
    "print(lista) #veamos que los convierte en una lista de tuplas, las tuplas tienen n elementos es decir, n \n",
    "functionz=dict(zip(friends, ages)) #siendo más fácil la creación de este diccionario \n",
    "print(functionz)#notemos que friends son los Strings a definir, y ages son sus definiciones, si tenemos menos definiciones que conceptos, sólo se usará el número de conceptos que de definiciones y viceversa con menor canidad de strings qe de definiciones\n"
   ]
  },
  {
   "cell_type": "code",
   "execution_count": 48,
   "metadata": {},
   "outputs": [
    {
     "name": "stdout",
     "output_type": "stream",
     "text": [
      "<enumerate object at 0x7f3f3c6af438>\n",
      "2\n",
      "Fe\n",
      "3\n",
      "Rn\n",
      "4\n",
      "An\n",
      "{2: 'Fe', 3: 'Rn', 4: 'An'}\n",
      "[(0, 'Fe'), (1, 'Rn'), (2, 'An')]\n"
     ]
    }
   ],
   "source": [
    "#the enumerate function. podemos usarla para convertir una secencia como una lista o un par de algo nuevo\n",
    "friends = [\"Fe\",\"Rn\",\"An\"]\n",
    "hey=enumerate(friends) #podemos hacer que empiece la numeración en el número que deseemos, enumerate(\"variable a enumerar\", start = n)\n",
    "print(hey) #lo que hace es enumerar los elementos dentro de la lista\n",
    "for counter, friend in enumerate(friends, start = 2): \n",
    "    print(counter) #este imprime en valor numérico la lista \n",
    "    print(friend)\n",
    "    #print(list(zip(enumerate(friends,counter))))\n",
    "print(dict(enumerate(friends, start = 2))) #podemos omitir a partide q número iniciará si deseamos, este iniciará desde el 0\n",
    "print(list(enumerate(friends)))\n"
   ]
  },
  {
   "cell_type": "code",
   "execution_count": 51,
   "metadata": {},
   "outputs": [
    {
     "name": "stdout",
     "output_type": "stream",
     "text": [
      "Jen won 1000000.\n"
     ]
    }
   ],
   "source": [
    "import random\n",
    " \n",
    "# This line creates a set with 6 random numbers\n",
    "lottery_numbers = set(random.sample(range(22), 6))\n",
    " \n",
    "# Here are your players; find out who has the most numbers matching lottery_numbers!\n",
    "players = [\n",
    "    {\"name\": \"Rolf\", \"numbers\": {1, 3, 5, 7, 9, 11}},\n",
    "    {\"name\": \"Charlie\", \"numbers\": {2, 7, 9, 22, 10, 5}},\n",
    "    {\"name\": \"Anna\", \"numbers\": {13, 14, 15, 16, 17, 18}},\n",
    "    {\"name\": \"Jen\", \"numbers\": {19, 20, 12, 7, 3, 5}}\n",
    "]\n",
    " \n",
    "# Then, print out a line such as \"Jen won 1000.\".\n",
    "# The winnings are calculated with the formula:\n",
    "# 100 ** len(numbers_matched)\n",
    " \n",
    "top_player = players[0]  # start by saying \"the top matching player is the first one\"\n",
    " \n",
    "for player in players:  # Go over each player\n",
    "    matched_numbers = len(player[\"numbers\"].intersection(lottery_numbers))  # Calculate how many numbers they matched\n",
    "    if matched_numbers > len(top_player[\"numbers\"].intersection(lottery_numbers)):  # If they matched more than the current top player...\n",
    "        top_player = player  # Say this player is the new top player\n",
    " \n",
    "# Calculate their winnings using the formula\n",
    "winnings = 100 ** len(top_player[\"numbers\"].intersection(lottery_numbers))\n",
    " \n",
    "# Then print out—here in Udemy we have to use .format, but normally you'd want to use f-strings.\n",
    "print(f\"{top_player['name']} won {winnings}.\")"
   ]
  },
  {
   "cell_type": "code",
   "execution_count": 53,
   "metadata": {},
   "outputs": [
    {
     "name": "stdout",
     "output_type": "stream",
     "text": [
      "{5, 6, 9, 10, 13, 16}\n"
     ]
    }
   ],
   "source": [
    "lottery_numbers = set(random.sample(range(22), 6))\n",
    "print(lottery_numbers)"
   ]
  },
  {
   "cell_type": "code",
   "execution_count": 3,
   "metadata": {},
   "outputs": [
    {
     "name": "stdout",
     "output_type": "stream",
     "text": [
      "Enter your name: kasnd\n",
      "Hello, kasnd\n"
     ]
    }
   ],
   "source": [
    "#en python las funciones siempre comienzan con \"def\"\n",
    "def greet(): #pueden ir o no ir especificaciones dentro de los paréntesis\n",
    "    name = input(\"Enter your name: \")\n",
    "    print(f\"Hello, {name}\")#aquí lo único que se hizo fue definir a la función, si la deseamos ejecutar, sólo la llamamos\n",
    "greet() #las variables declaradas dentro de la función sólo funcionan dentro de ella c: "
   ]
  },
  {
   "cell_type": "code",
   "execution_count": 8,
   "metadata": {},
   "outputs": [
    {
     "data": {
      "text/plain": [
       "-3"
      ]
     },
     "execution_count": 8,
     "metadata": {},
     "output_type": "execute_result"
    }
   ],
   "source": [
    "#arguments and parameters\n",
    "def divide(x, y): #vamos a almacennar info en dos variables\n",
    "    if y==0:\n",
    "        return \"You tried to divide by zero!!\"\n",
    "    else: \n",
    "        return x/y\n",
    "#nota, no conviene tener dos declaraciones return una seguida de la otra, ya que sólo se correrá la prime\n",
    "divide(10,3)\n",
    "int(divide(-6,2))"
   ]
  },
  {
   "cell_type": "code",
   "execution_count": 10,
   "metadata": {
    "scrolled": true
   },
   "outputs": [
    {
     "name": "stdout",
     "output_type": "stream",
     "text": [
      "7\n",
      "8\n",
      "4\n",
      "4\n"
     ]
    }
   ],
   "source": [
    "#valores predeterminados para los parámetros\n",
    "def add(x,y=1): #podemos definir el valor de nuestra variable aquí, si lo hacemos, podemos omitir el valor al llamar a la función para que devuelva el valor\n",
    "    total = x+y\n",
    "    return total\n",
    "print(add(6)) #aquí está el ejemplo de que se puede omitir el valor de la variable y \n",
    "print(add(6,2)) #quí no lo omitimos y aún así podemos modificar el valor de la vairble\n",
    "#si deseamos predeterminar primero el valor de una varibale y luego agregarla a una función, lo que pasa es que Python trabajará sobre ese valor, no puedes editar esa variable después\n",
    "default_y = 2\n",
    "def add(x, y=default_y):\n",
    "    total= x+y\n",
    "    return total\n",
    "print(add(2))\n",
    "default_y = 1\n",
    "print(add(2)) "
   ]
  },
  {
   "cell_type": "code",
   "execution_count": 19,
   "metadata": {},
   "outputs": [
    {
     "name": "stdout",
     "output_type": "stream",
     "text": [
      "2.4\n"
     ]
    }
   ],
   "source": [
    "#lamba functions /se usan para obtener entradas y devolver salidas\n",
    "divide = lambda x,y: x/y\n",
    "print(divide(12,5)) #lambda ya nos está regresando el valor x/y, por lo que hace todo ese proceso de regresar en la uncion lambda\n",
    "#dicha función tiene que tener asignada una variable, sino esta función no será tomada en cuenta por Python"
   ]
  },
  {
   "cell_type": "code",
   "execution_count": 20,
   "metadata": {},
   "outputs": [
    {
     "name": "stdout",
     "output_type": "stream",
     "text": [
      "True\n"
     ]
    }
   ],
   "source": [
    "#first-class functions in Python/ una función es una estancia en una frist-class, es decir, puede ser llamada por variables\n",
    "def over_age(data, getter):\n",
    "    return getter(data) >= 18\n",
    " \n",
    "user = { 'username': 'rolf123', 'age': '35' }\n",
    " \n",
    "print(over_age(user, lambda x: int(x['age'])))"
   ]
  },
  {
   "cell_type": "code",
   "execution_count": 10,
   "metadata": {},
   "outputs": [
    {
     "name": "stdout",
     "output_type": "stream",
     "text": [
      "[(1, 123), (2, 456), (3, 622)]\n"
     ]
    }
   ],
   "source": [
    "lista = [1,2,3,4,5,5,6,2,2]\n",
    "lista2=[123,456,622]\n",
    "print(list(zip(lista,lista2)))\n",
    "lista.add"
   ]
  }
 ],
 "metadata": {
  "kernelspec": {
   "display_name": "Python 3",
   "language": "python",
   "name": "python3"
  },
  "language_info": {
   "codemirror_mode": {
    "name": "ipython",
    "version": 3
   },
   "file_extension": ".py",
   "mimetype": "text/x-python",
   "name": "python",
   "nbconvert_exporter": "python",
   "pygments_lexer": "ipython3",
   "version": "3.6.8"
  }
 },
 "nbformat": 4,
 "nbformat_minor": 4
}
