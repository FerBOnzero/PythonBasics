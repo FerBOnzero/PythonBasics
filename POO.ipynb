{
 "cells": [
  {
   "cell_type": "code",
   "execution_count": 6,
   "metadata": {},
   "outputs": [
    {
     "name": "stdout",
     "output_type": "stream",
     "text": [
      "60.0\n",
      "The Matrix\n",
      "Wachowski\n"
     ]
    }
   ],
   "source": [
    "students = {\n",
    "    \"name\" :\"Fe\",\n",
    "    \"grade\" : [20, 40, 80, 100]\n",
    "}\n",
    "def average_grade(student):\n",
    "    return sum(student[\"grade\"])/len(student[\"grade\"])\n",
    "print(average_grade(students))\n",
    "\n",
    "class Movie:\n",
    "    def __init__(self, new_name, new_director):\n",
    "        self.name = new_name\n",
    "        self.director = new_director #funciones dunder, es decir __init__\n",
    "\n",
    "#ahora creamos un objeto de la clase Student, es decir \n",
    "my_movie = Movie('The Matrix', 'Wachowski')\n",
    "print(my_movie.name)\n",
    "print(my_movie.director)"
   ]
  },
  {
   "cell_type": "code",
   "execution_count": 1,
   "metadata": {},
   "outputs": [
    {
     "name": "stdout",
     "output_type": "stream",
     "text": [
      "bebo\n",
      "tiro loco\n",
      "<<bebo>> by tiro loco\n",
      "None\n"
     ]
    },
    {
     "ename": "ModuleNotFoundError",
     "evalue": "No module named 'movie'",
     "output_type": "error",
     "traceback": [
      "\u001b[0;31m---------------------------------------------------------------------------\u001b[0m",
      "\u001b[0;31mModuleNotFoundError\u001b[0m                       Traceback (most recent call last)",
      "\u001b[0;32m<ipython-input-1-ed89dd1db380>\u001b[0m in \u001b[0;36m<module>\u001b[0;34m\u001b[0m\n\u001b[1;32m     14\u001b[0m \u001b[0mprint\u001b[0m\u001b[0;34m(\u001b[0m\u001b[0mMovie\u001b[0m\u001b[0;34m.\u001b[0m\u001b[0mprint_info\u001b[0m\u001b[0;34m(\u001b[0m\u001b[0mMovie_one\u001b[0m\u001b[0;34m)\u001b[0m\u001b[0;34m)\u001b[0m\u001b[0;34m\u001b[0m\u001b[0;34m\u001b[0m\u001b[0m\n\u001b[1;32m     15\u001b[0m \u001b[0;34m\u001b[0m\u001b[0m\n\u001b[0;32m---> 16\u001b[0;31m \u001b[0;32mfrom\u001b[0m \u001b[0mmovie\u001b[0m \u001b[0;32mimport\u001b[0m \u001b[0mMovie\u001b[0m\u001b[0;34m\u001b[0m\u001b[0;34m\u001b[0m\u001b[0m\n\u001b[0m\u001b[1;32m     17\u001b[0m \u001b[0mprint\u001b[0m\u001b[0;34m(\u001b[0m\u001b[0mMovie\u001b[0m\u001b[0;34m.\u001b[0m\u001b[0m__unit__\u001b[0m\u001b[0;34m)\u001b[0m\u001b[0;34m\u001b[0m\u001b[0;34m\u001b[0m\u001b[0m\n",
      "\u001b[0;31mModuleNotFoundError\u001b[0m: No module named 'movie'"
     ]
    }
   ],
   "source": [
    "# We've already defined a movie class like this:\n",
    "class Movie:\n",
    "    def __init__(self, new_name, new_director):\n",
    "        self.name = new_name\n",
    "        self.director = new_director\n",
    " \n",
    "    # let's try to add a method `print_info()` here:\n",
    "    def print_info(self):\n",
    "        print(f\"<<{self.name}>> by {self.director}\")\n",
    "Movie_one = Movie(\"bebo\", \"tiro loco\")\n",
    "print(Movie_one.name)\n",
    "print(Movie_one.director)\n",
    "# You only need to finish the method, we will take care of the object creation and call your method for you!\n",
    "print(Movie.print_info(Movie_one))\n",
    "\n",
    "from movie import Movie \n",
    "print(Movie.__unit__)\n"
   ]
  }
 ],
 "metadata": {
  "kernelspec": {
   "display_name": "Python 3",
   "language": "python",
   "name": "python3"
  },
  "language_info": {
   "codemirror_mode": {
    "name": "ipython",
    "version": 3
   },
   "file_extension": ".py",
   "mimetype": "text/x-python",
   "name": "python",
   "nbconvert_exporter": "python",
   "pygments_lexer": "ipython3",
   "version": "3.6.8"
  }
 },
 "nbformat": 4,
 "nbformat_minor": 4
}
