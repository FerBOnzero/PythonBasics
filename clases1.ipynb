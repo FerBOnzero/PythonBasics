{
 "cells": [
  {
   "cell_type": "code",
   "execution_count": 18,
   "metadata": {},
   "outputs": [
    {
     "name": "stdout",
     "output_type": "stream",
     "text": [
      "Tienes estas opciones a trabajar con esta calculadora: \n",
      "1- Suma\n",
      "2- Resta\n",
      "3- Multiplicación\n",
      "4- División\n",
      "inserta el tipo de operación que deseas realizar: 5\n",
      "inserta el primer numero: 9\n",
      "inserta el segundo: 7\n",
      "no puedo realizar esa operación\n",
      "None\n"
     ]
    }
   ],
   "source": [
    "def realizar_operacion(operación, numero1, numero2):\n",
    "    if operacion==1:\n",
    "        return numero1+numero2\n",
    "    elif operacion==2:\n",
    "        return numero1-numero2\n",
    "    elif operacion==3:\n",
    "        return numero1*numero2\n",
    "    elif operacion==4:\n",
    "        return numero1/numero2\n",
    "    else : \n",
    "        print(\"no puedo realizar esa operación\")\n",
    "        \n",
    "\n",
    "print(\"Tienes estas opciones a trabajar con esta calculadora: \")\n",
    "print(\"1- Suma\")\n",
    "print(\"2- Resta\")\n",
    "print(\"3- Multiplicación\")\n",
    "print(\"4- División\")\n",
    "\n",
    "try:\n",
    "    operacion = int(input(\"inserta el tipo de operación que deseas realizar: \"))\n",
    "    numero1 = int(input(\"inserta el primer numero: \"))\n",
    "    numero2 = int(input(\"inserta el segundo: \"))\n",
    "\n",
    "except: \n",
    "    print(\"introduce sólo números, porfa\")\n",
    "else:    \n",
    "    resultado = realizar_operacion(operacion, numero1, numero2)\n",
    "    print(resultado)"
   ]
  },
  {
   "cell_type": "code",
   "execution_count": 34,
   "metadata": {},
   "outputs": [
    {
     "name": "stdout",
     "output_type": "stream",
     "text": [
      "{'lunes': 1, 'martes': 2}\n"
     ]
    }
   ],
   "source": [
    "dias = dict(lunes=1, martes=2)\n",
    "print(dias)"
   ]
  },
  {
   "cell_type": "code",
   "execution_count": 9,
   "metadata": {},
   "outputs": [
    {
     "name": "stdout",
     "output_type": "stream",
     "text": [
      "0\n",
      "13\n",
      "1\n",
      "sorcerer\n"
     ]
    }
   ],
   "source": [
    "class Player: \n",
    "    hit_points = 0\n",
    "    mana = 0\n",
    "    vocacion = \"no vocation\"\n",
    " \n",
    "print(Player.mana)\n",
    "\n",
    "sorcerer = Player() #estamos creando un objeto de tipo Player c:\n",
    "sorcerer.hit_points = 13\n",
    "sorcerer.mana = 1\n",
    "sorcerer.vocacion = \"sorcerer\"\n",
    "print(sorcerer.hit_points) \n",
    "print(sorcerer.mana)\n",
    "print(sorcerer.vocacion)"
   ]
  },
  {
   "cell_type": "code",
   "execution_count": 2,
   "metadata": {},
   "outputs": [
    {
     "name": "stdout",
     "output_type": "stream",
     "text": [
      "20\n",
      "13\n",
      "mathematic\n",
      "no pusiste nada\n"
     ]
    }
   ],
   "source": [
    "class Player: \n",
    "   \n",
    "    \n",
    "    def __init__(self, hit_points=0, mana=0, vocacion=\"no hay vocación\", hechizo=\"no pusiste nada\"): #podríamos poner valor por default, esto si queremos omitir algunas especificaciones al momento de hacer objetos\n",
    "        self.hit_points = hit_points\n",
    "        self.mana = mana\n",
    "        self.vocacion = vocacion\n",
    "        self.hechizo = hechizo\n",
    "    \n",
    "    def lanzar_hechizo(self): #todos los métodos en Python, tienen que llevar por lo menos un argumento, o sea lo que va dentro del paréntesis \n",
    "        return self.hechizo\n",
    "\n",
    "sorcerer = Player(20,13,\"mathematic\") #estamos creando un objeto de tipo Player c:\n",
    "#sorcerer.hit_points = 13\n",
    "#sorcerer.mana = 1\n",
    "#sorcerer.vocacion = 24\n",
    "print(sorcerer.hit_points) \n",
    "print(sorcerer.mana)\n",
    "print(sorcerer.vocacion)\n",
    "\n",
    "#sorcerer.hechizo = \"ajia\" #por q utilizamos hechizo y no la función? pq estamos usando una instancia que trabaja sobre hechizo en la función \n",
    "print(sorcerer.lanzar_hechizo())"
   ]
  },
  {
   "cell_type": "code",
   "execution_count": 37,
   "metadata": {},
   "outputs": [
    {
     "name": "stdout",
     "output_type": "stream",
     "text": [
      "12\n",
      "12\n",
      "sorcerer\n",
      "sobas\n"
     ]
    }
   ],
   "source": [
    "class Player: \n",
    "   \n",
    "    \n",
    "    def __init__(self, **kargs): \n",
    "        self.hit_points = kargs.get(\"hit_points\", 0)\n",
    "        self.mana = kargs.get(\"mana\", 0)\n",
    "        self.vocacion = kargs.get(\"vocacion\", \"no vocacion\")\n",
    "        self.hechizo = kargs.get(\"hechizo\", \"no hechizo\")\n",
    "sorcerer = Player(hit_points = 12, mana = 12, vocacion = \"sorcerer\", hechizo = \"sobas\")\n",
    "print(sorcerer.hit_points) \n",
    "print(sorcerer.mana)\n",
    "print(sorcerer.vocacion)\n",
    "print(sorcerer.hechizo)\n"
   ]
  },
  {
   "cell_type": "code",
   "execution_count": 8,
   "metadata": {},
   "outputs": [
    {
     "name": "stdout",
     "output_type": "stream",
     "text": [
      "Mathematic\n",
      "12\n",
      "12\n",
      "10\n",
      "súper no sé\n",
      "the degree is Engineer\n",
      "12\n",
      "12\n",
      "11\n",
      "por supuesto!!!\n"
     ]
    }
   ],
   "source": [
    "#herencia en python. heredar entre clases \n",
    "class Student: \n",
    "    degree = \"no degree\"\n",
    "    ego = 0\n",
    "    ateo = \"no\"\n",
    "    def __init__(self, **kargs): \n",
    "        self.hit_points = kargs.get(\"hit_points\", 0)\n",
    "        self.mana = kargs.get(\"mana\", 0)\n",
    "      \n",
    "    def ateo(self):\n",
    "        return self.ateo\n",
    "\n",
    "class Mathematic(Student):\n",
    "    degree = \"Mathematic\"\n",
    "    ego = 10\n",
    "    ateo = \"súper no sé\"\n",
    "    \n",
    "class Engineer(Student):\n",
    "    degree = \"Engineer\"\n",
    "    ego = 11\n",
    "    ateo = \"por supuesto!!!\"\n",
    "\n",
    "\n",
    "mathematic = Mathematic(hit_points  = 12, mana = 12)\n",
    "print(mathematic.degree)\n",
    "print(mathematic.hit_points) \n",
    "print(mathematic.mana)\n",
    "print(mathematic.ego)\n",
    "print(mathematic.ateo) #si omitimos un atributo, simplemente se omite y no se imprime\n",
    "\n",
    "engineer = Engineer(hit_points = 12, mana = 12)\n",
    "print(f\"the degree is {engineer.degree}\")\n",
    "print(engineer.hit_points) \n",
    "print(engineer.mana)\n",
    "print(engineer.ego) \n",
    "print(engineer.ateo)\n",
    "\n",
    "    "
   ]
  },
  {
   "cell_type": "code",
   "execution_count": 9,
   "metadata": {
    "scrolled": true
   },
   "outputs": [
    {
     "name": "stdout",
     "output_type": "stream",
     "text": [
      "Mathematic\n",
      "12\n",
      "12\n",
      "10\n",
      "súper no sé\n",
      "the degree is Engineer\n",
      "12\n",
      "12\n",
      "11\n",
      "por supuesto!!!\n"
     ]
    }
   ],
   "source": [
    "# __str__ define como se va a imprimir nuestra instancia en nuestra clase \n",
    "\n",
    "class Student: \n",
    "    degree = \"no degree\"\n",
    "    ego = 0\n",
    "    ateo = \"no\"\n",
    "    def __init__(self, **kargs): \n",
    "        self.hit_points = kargs.get(\"hit_points\", 0)\n",
    "        self.mana = kargs.get(\"mana\", 0)\n",
    "      \n",
    "    def __str__(self):\n",
    "        return self.degree #veamos que podemos ponerlo en return debido a que e una cadena \n",
    "    def ateo(self):\n",
    "        return self.ateo\n",
    "\n",
    "class Mathematic(Student):\n",
    "    degree = \"Mathematic\"\n",
    "    ego = 10\n",
    "    ateo = \"súper no sé\"\n",
    "    \n",
    "class Engineer(Student):\n",
    "    degree = \"Engineer\"\n",
    "    ego = 11\n",
    "    ateo = \"por supuesto!!!\"\n",
    "\n",
    "\n",
    "mathematic = Mathematic(hit_points  = 12, mana = 12)\n",
    "print(mathematic)\n",
    "print(mathematic.hit_points) \n",
    "print(mathematic.mana)\n",
    "print(mathematic.ego)\n",
    "print(mathematic.ateo) #si omitimos un atributo, simplemente se omite y no se imprime\n",
    "\n",
    "engineer = Engineer(hit_points = 12, mana = 12)\n",
    "print(f\"the degree is {engineer.degree}\")\n",
    "print(engineer.hit_points) \n",
    "print(engineer.mana)\n",
    "print(engineer.ego) \n",
    "print(engineer.ateo)\n",
    "\n",
    "    \n"
   ]
  },
  {
   "cell_type": "code",
   "execution_count": 18,
   "metadata": {},
   "outputs": [
    {
     "name": "stdout",
     "output_type": "stream",
     "text": [
      "2020-09-03 20:09:06.332524\n",
      "3\n",
      "2020\n",
      "6\n",
      "2020-09-03 20:09:16.332524\n"
     ]
    }
   ],
   "source": [
    "import datetime \n",
    "dir(datetime)\n",
    "\n",
    "datetime.datetime.now()\n",
    "now = datetime.datetime.now()\n",
    "print(now)\n",
    "print(now.day)\n",
    "print(now.year)\n",
    "print(now.second)\n",
    "#podemos reemplzar el valor de cualquiera de estos valores utilizando l función replace\n",
    "print(now.replace(second=16)) #no se reasignará este valor, si volvemos a llamar now, nos dará de nuevo la fecha sin modificaciones \n"
   ]
  },
  {
   "cell_type": "code",
   "execution_count": 20,
   "metadata": {},
   "outputs": [],
   "source": [
    "num = 12\n",
    "name = \"Fers\""
   ]
  },
  {
   "cell_type": "code",
   "execution_count": 22,
   "metadata": {},
   "outputs": [
    {
     "data": {
      "text/plain": [
       "'My name is Fers and my age is 12'"
      ]
     },
     "execution_count": 22,
     "metadata": {},
     "output_type": "execute_result"
    }
   ],
   "source": [
    "\"My name is {} and my age is {}\".format(name, num)"
   ]
  },
  {
   "cell_type": "code",
   "execution_count": 15,
   "metadata": {},
   "outputs": [
    {
     "name": "stdout",
     "output_type": "stream",
     "text": [
      "[2, [3, 4]]\n",
      "4\n",
      "9\n",
      "HELLO, BRO\n",
      "hello, bro\n",
      "['HEllo,', 'Bro']\n",
      "dict_keys(['a', 'b'])\n",
      "dict_values([1, 2])\n"
     ]
    },
    {
     "data": {
      "text/plain": [
       "[1, 2, 3, 4]"
      ]
     },
     "execution_count": 15,
     "metadata": {},
     "output_type": "execute_result"
    }
   ],
   "source": [
    "#anidar listas \n",
    "my_list = [1,2,3,4,5]\n",
    "\n",
    "nest = [1,2,[3,4], 5]\n",
    "print(nest[1:3])\n",
    "print(nest[2][1])\n",
    "\n",
    "def num(var): \n",
    "    return var*2\n",
    "list(map(num, my_list)) #map nos hace la funcion en la lista, en este caso\n",
    "\n",
    "t = lambda ar:ar*3 #tenemos una vriable donde se lmacenrá la función y el retorno que deseemos\n",
    "print(t(3))\n",
    "\n",
    "list(map(lambda num: num*5, my_list)) #notemos que en sí, el primer término, es decir, la función lambda de aplicará a my_list\n",
    "\n",
    "list(filter(lambda num: num%2 == 1, my_list)) #a fiter le podemos poner función lmbda o bien, una función que queramos\n",
    "\n",
    "s = \"HEllo, Bro\"\n",
    "print(s.upper())\n",
    "print(s.lower())\n",
    "print(s.split()) #aquí nos separará en elementos de una lista cada espacio en blanco que tenga un string\n",
    "\n",
    "d = {\"a\" : 1, \"b\" : 2}\n",
    "print(d.keys()) #accedemos a lo que estamos definiendo en el diccionario\n",
    "print(d.values())\n",
    "\n",
    "my_list.pop() #nos da el último elemento de la lista y lo elimina permanentemente\n",
    "my_list #podemos ponen dentro del paréntesis el elemento que deseemos eliminar de dicha lista c:\n",
    " "
   ]
  }
 ],
 "metadata": {
  "celltoolbar": "Raw Cell Format",
  "kernelspec": {
   "display_name": "Python 3",
   "language": "python",
   "name": "python3"
  },
  "language_info": {
   "codemirror_mode": {
    "name": "ipython",
    "version": 3
   },
   "file_extension": ".py",
   "mimetype": "text/x-python",
   "name": "python",
   "nbconvert_exporter": "python",
   "pygments_lexer": "ipython3",
   "version": "3.6.8"
  }
 },
 "nbformat": 4,
 "nbformat_minor": 4
}
