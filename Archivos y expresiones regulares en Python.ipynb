{
 "cells": [
  {
   "cell_type": "code",
   "execution_count": 1,
   "metadata": {},
   "outputs": [],
   "source": [
    "import re "
   ]
  },
  {
   "cell_type": "code",
   "execution_count": 21,
   "metadata": {},
   "outputs": [
    {
     "name": "stdout",
     "output_type": "stream",
     "text": [
      "hello, soy un texto, estás accediendo a mi contenido, wellcome!!\n",
      "\n",
      "<_sre.SRE_Match object; span=(0, 5), match='hello'>\n"
     ]
    }
   ],
   "source": [
    "archivo = open(\"Prueba.txt\",encoding=\"utf-8\") #contiene la referencia \n",
    "\n",
    "informacion = archivo.read()\n",
    "\n",
    "archivo.close()\n",
    "\n",
    "print(informacion) #esto ya ha entrado a mi archivo extensión .txt ;) \n",
    "\n",
    "print(re.search(r\"hello\" ,informacion)) #re.match sólo busca en la primera fila c:\n",
    "\n",
    "#checar la pagina regexr.com ahí se verá lo relacionado a lo que se está haciendoaquí "
   ]
  },
  {
   "cell_type": "code",
   "execution_count": 25,
   "metadata": {
    "scrolled": true
   },
   "outputs": [
    {
     "name": "stdout",
     "output_type": "stream",
     "text": [
      "<_io.TextIOWrapper name='Prueba.txt' mode='w' encoding='UTF-8'>\n"
     ]
    }
   ],
   "source": [
    "#escribir a un archivo en Python \n",
    "archivo_lista = open(\"Prueba.txt\",\"w\") #si el archivo no existe, entonces será creado, no hay problema, sólo no hay que olvidar la extensión .txt\n",
    "archivo_lista.write(\"estoy agregando esto desde python\") #pusimos \"w\" pq vamos a escribir, w de write\n",
    "archivo_lista.close()\n",
    "print(archivo_lista) #\"w\" nos sobreescribe el código, por ello vimos que ya no está nuestro demás código:), ahora agreguemos elementos que deseemos sin que sobre escriba, para ello necesitamos usar \"a\"\n"
   ]
  },
  {
   "cell_type": "code",
   "execution_count": 30,
   "metadata": {},
   "outputs": [
    {
     "name": "stdout",
     "output_type": "stream",
     "text": [
      "agrega lo que desees poner en el texto: jijiji x2\n",
      "<_io.TextIOWrapper name='Prueba.txt' mode='w' encoding='UTF-8'>\n"
     ]
    }
   ],
   "source": [
    "def agregar_articulo(articulo):\n",
    "        archivo_lista = open(\"Prueba.txt\",\"a\")\n",
    "        archivo_lista.write(articulo)\n",
    "        archivo_lista.close()\n",
    "agregar_articulo(input(\"agrega lo que desees poner en el texto: \"))\n",
    "print(archivo_lista)"
   ]
  }
 ],
 "metadata": {
  "kernelspec": {
   "display_name": "Python 3",
   "language": "python",
   "name": "python3"
  },
  "language_info": {
   "codemirror_mode": {
    "name": "ipython",
    "version": 3
   },
   "file_extension": ".py",
   "mimetype": "text/x-python",
   "name": "python",
   "nbconvert_exporter": "python",
   "pygments_lexer": "ipython3",
   "version": "3.6.8"
  }
 },
 "nbformat": 4,
 "nbformat_minor": 4
}
